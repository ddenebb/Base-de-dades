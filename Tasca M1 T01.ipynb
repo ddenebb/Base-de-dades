{
 "cells": [
  {
   "cell_type": "code",
   "execution_count": 1,
   "id": "c0d4cb6a",
   "metadata": {
    "scrolled": true
   },
   "outputs": [],
   "source": [
    "import mysql.connector\n",
    "\n",
    "mydb = mysql.connector.connect(\n",
    "  host=\"localhost\",\n",
    "  user=\"root\",\n",
    "  password=\"Cockazo1%\"\n",
    ")\n",
    "\n",
    "mycursor = mydb.cursor()\n",
    "\n",
    "mycursor.execute(\"CREATE DATABASE SGAE_Practica\")"
   ]
  },
  {
   "cell_type": "code",
   "execution_count": 2,
   "id": "5f8d82d0",
   "metadata": {
    "scrolled": false
   },
   "outputs": [
    {
     "name": "stdout",
     "output_type": "stream",
     "text": [
      "('information_schema',)\n",
      "('mysql',)\n",
      "('performance_schema',)\n",
      "('sgae_practica',)\n",
      "('sys',)\n"
     ]
    }
   ],
   "source": [
    "mycursor.execute(\"SHOW DATABASES\")\n",
    "\n",
    "for x in mycursor:\n",
    "  print(x) "
   ]
  },
  {
   "cell_type": "code",
   "execution_count": 3,
   "id": "eb395ba7",
   "metadata": {},
   "outputs": [],
   "source": [
    "mydb = mysql.connector.connect(\n",
    "  host=\"localhost\",\n",
    "  user=\"root\",\n",
    "  password=\"Cockazo1%\",\n",
    "  database=\"SGAE_Practica\"\n",
    ") "
   ]
  },
  {
   "cell_type": "code",
   "execution_count": 8,
   "id": "ac2193ae",
   "metadata": {},
   "outputs": [
    {
     "name": "stdout",
     "output_type": "stream",
     "text": [
      "('tb_genre',)\n",
      "('tb_role',)\n"
     ]
    }
   ],
   "source": [
    "mycursor = mydb.cursor()\n",
    "\n",
    "mycursor.execute(\"SHOW TABLES\")\n",
    "\n",
    "for x in mycursor:\n",
    "  print(x) "
   ]
  },
  {
   "cell_type": "code",
   "execution_count": null,
   "id": "f4196da8",
   "metadata": {},
   "outputs": [],
   "source": []
  },
  {
   "cell_type": "code",
   "execution_count": 9,
   "id": "ad817088",
   "metadata": {},
   "outputs": [
    {
     "ename": "ProgrammingError",
     "evalue": "1050 (42S01): Table 'tb_genre' already exists",
     "output_type": "error",
     "traceback": [
      "\u001b[1;31m---------------------------------------------------------------------------\u001b[0m",
      "\u001b[1;31mMySQLInterfaceError\u001b[0m                       Traceback (most recent call last)",
      "\u001b[1;32m~\\Anaconda3\\lib\\site-packages\\mysql\\connector\\connection_cext.py\u001b[0m in \u001b[0;36mcmd_query\u001b[1;34m(self, query, raw, buffered, raw_as_string)\u001b[0m\n\u001b[0;32m    564\u001b[0m                 \u001b[0mquery\u001b[0m \u001b[1;33m=\u001b[0m \u001b[0mquery\u001b[0m\u001b[1;33m.\u001b[0m\u001b[0mencode\u001b[0m\u001b[1;33m(\u001b[0m\u001b[1;34m\"utf-8\"\u001b[0m\u001b[1;33m)\u001b[0m\u001b[1;33m\u001b[0m\u001b[1;33m\u001b[0m\u001b[0m\n\u001b[1;32m--> 565\u001b[1;33m             self._cmysql.query(\n\u001b[0m\u001b[0;32m    566\u001b[0m                 \u001b[0mquery\u001b[0m\u001b[1;33m,\u001b[0m\u001b[1;33m\u001b[0m\u001b[1;33m\u001b[0m\u001b[0m\n",
      "\u001b[1;31mMySQLInterfaceError\u001b[0m: Table 'tb_genre' already exists",
      "\nThe above exception was the direct cause of the following exception:\n",
      "\u001b[1;31mProgrammingError\u001b[0m                          Traceback (most recent call last)",
      "\u001b[1;32m~\\AppData\\Local\\Temp\\ipykernel_16436\\2637934854.py\u001b[0m in \u001b[0;36m<module>\u001b[1;34m\u001b[0m\n\u001b[0;32m      1\u001b[0m \u001b[0mmycursor\u001b[0m \u001b[1;33m=\u001b[0m \u001b[0mmydb\u001b[0m\u001b[1;33m.\u001b[0m\u001b[0mcursor\u001b[0m\u001b[1;33m(\u001b[0m\u001b[1;33m)\u001b[0m\u001b[1;33m\u001b[0m\u001b[1;33m\u001b[0m\u001b[0m\n\u001b[0;32m      2\u001b[0m \u001b[1;33m\u001b[0m\u001b[0m\n\u001b[1;32m----> 3\u001b[1;33m \u001b[0mmycursor\u001b[0m\u001b[1;33m.\u001b[0m\u001b[0mexecute\u001b[0m\u001b[1;33m(\u001b[0m\u001b[1;34m\"CREATE TABLE tb_genre (genre_id         INTEGER NOT NULL ,genre_name       CHARACTER VARYING(40) NOT NULL ,created_by_user  CHARACTER VARYING(10) NOT NULL DEFAULT 'OS_SGAD' ,created_date     DATE ,updated_date     DATE ,CONSTRAINT pk_genre PRIMARY KEY (genre_id))\"\u001b[0m\u001b[1;33m)\u001b[0m\u001b[1;33m\u001b[0m\u001b[1;33m\u001b[0m\u001b[0m\n\u001b[0m",
      "\u001b[1;32m~\\Anaconda3\\lib\\site-packages\\mysql\\connector\\cursor_cext.py\u001b[0m in \u001b[0;36mexecute\u001b[1;34m(self, operation, params, multi)\u001b[0m\n\u001b[0;32m    277\u001b[0m \u001b[1;33m\u001b[0m\u001b[0m\n\u001b[0;32m    278\u001b[0m         \u001b[1;32mtry\u001b[0m\u001b[1;33m:\u001b[0m\u001b[1;33m\u001b[0m\u001b[1;33m\u001b[0m\u001b[0m\n\u001b[1;32m--> 279\u001b[1;33m             result = self._cnx.cmd_query(\n\u001b[0m\u001b[0;32m    280\u001b[0m                 \u001b[0mstmt\u001b[0m\u001b[1;33m,\u001b[0m\u001b[1;33m\u001b[0m\u001b[1;33m\u001b[0m\u001b[0m\n\u001b[0;32m    281\u001b[0m                 \u001b[0mraw\u001b[0m\u001b[1;33m=\u001b[0m\u001b[0mself\u001b[0m\u001b[1;33m.\u001b[0m\u001b[0m_raw\u001b[0m\u001b[1;33m,\u001b[0m\u001b[1;33m\u001b[0m\u001b[1;33m\u001b[0m\u001b[0m\n",
      "\u001b[1;32m~\\Anaconda3\\lib\\site-packages\\mysql\\connector\\connection_cext.py\u001b[0m in \u001b[0;36mcmd_query\u001b[1;34m(self, query, raw, buffered, raw_as_string)\u001b[0m\n\u001b[0;32m    571\u001b[0m             )\n\u001b[0;32m    572\u001b[0m         \u001b[1;32mexcept\u001b[0m \u001b[0mMySQLInterfaceError\u001b[0m \u001b[1;32mas\u001b[0m \u001b[0merr\u001b[0m\u001b[1;33m:\u001b[0m\u001b[1;33m\u001b[0m\u001b[1;33m\u001b[0m\u001b[0m\n\u001b[1;32m--> 573\u001b[1;33m             raise get_mysql_exception(\n\u001b[0m\u001b[0;32m    574\u001b[0m                 \u001b[0merr\u001b[0m\u001b[1;33m.\u001b[0m\u001b[0merrno\u001b[0m\u001b[1;33m,\u001b[0m \u001b[0mmsg\u001b[0m\u001b[1;33m=\u001b[0m\u001b[0merr\u001b[0m\u001b[1;33m.\u001b[0m\u001b[0mmsg\u001b[0m\u001b[1;33m,\u001b[0m \u001b[0msqlstate\u001b[0m\u001b[1;33m=\u001b[0m\u001b[0merr\u001b[0m\u001b[1;33m.\u001b[0m\u001b[0msqlstate\u001b[0m\u001b[1;33m\u001b[0m\u001b[1;33m\u001b[0m\u001b[0m\n\u001b[0;32m    575\u001b[0m             ) from err\n",
      "\u001b[1;31mProgrammingError\u001b[0m: 1050 (42S01): Table 'tb_genre' already exists"
     ]
    }
   ],
   "source": [
    "mycursor = mydb.cursor()\n",
    "\n",
    "mycursor.execute(\"CREATE TABLE tb_genre (genre_id         INTEGER NOT NULL ,genre_name       CHARACTER VARYING(40) NOT NULL ,created_by_user  CHARACTER VARYING(10) NOT NULL DEFAULT 'OS_SGAD' ,created_date     DATE ,updated_date     DATE ,CONSTRAINT pk_genre PRIMARY KEY (genre_id))\")"
   ]
  },
  {
   "cell_type": "code",
   "execution_count": 13,
   "id": "df4e9af2",
   "metadata": {},
   "outputs": [
    {
     "name": "stdout",
     "output_type": "stream",
     "text": [
      "('tb_genre',)\n",
      "('tb_movie',)\n",
      "('tb_person',)\n",
      "('tb_role',)\n"
     ]
    }
   ],
   "source": [
    "mycursor = mydb.cursor()\n",
    "\n",
    "mycursor.execute(\"SHOW TABLES\")\n",
    "\n",
    "for x in mycursor:\n",
    "  print(x) "
   ]
  },
  {
   "cell_type": "code",
   "execution_count": 10,
   "id": "e4a5b89d",
   "metadata": {},
   "outputs": [],
   "source": [
    "mycursor = mydb.cursor()\n",
    "\n",
    "mycursor.execute(\"CREATE TABLE tb_movie (movie_id         INTEGER NOT NULL ,movie_title      CHARACTER VARYING(100) NOT NULL ,movie_date       DATE ,movie_format     CHARACTER VARYING(50) ,movie_genre_id   INTEGER ,created_by_user  CHARACTER VARYING(10) NOT NULL DEFAULT 'OS_SGAD' ,created_date     DATE ,updated_date     DATE ,CONSTRAINT pk_movie PRIMARY KEY (movie_id) ,CONSTRAINT fk_movie_genre FOREIGN KEY (movie_genre_id) REFERENCES tb_genre (genre_id))\")"
   ]
  },
  {
   "cell_type": "code",
   "execution_count": 11,
   "id": "691e265a",
   "metadata": {},
   "outputs": [
    {
     "ename": "ProgrammingError",
     "evalue": "1050 (42S01): Table 'tb_role' already exists",
     "output_type": "error",
     "traceback": [
      "\u001b[1;31m---------------------------------------------------------------------------\u001b[0m",
      "\u001b[1;31mMySQLInterfaceError\u001b[0m                       Traceback (most recent call last)",
      "\u001b[1;32m~\\Anaconda3\\lib\\site-packages\\mysql\\connector\\connection_cext.py\u001b[0m in \u001b[0;36mcmd_query\u001b[1;34m(self, query, raw, buffered, raw_as_string)\u001b[0m\n\u001b[0;32m    564\u001b[0m                 \u001b[0mquery\u001b[0m \u001b[1;33m=\u001b[0m \u001b[0mquery\u001b[0m\u001b[1;33m.\u001b[0m\u001b[0mencode\u001b[0m\u001b[1;33m(\u001b[0m\u001b[1;34m\"utf-8\"\u001b[0m\u001b[1;33m)\u001b[0m\u001b[1;33m\u001b[0m\u001b[1;33m\u001b[0m\u001b[0m\n\u001b[1;32m--> 565\u001b[1;33m             self._cmysql.query(\n\u001b[0m\u001b[0;32m    566\u001b[0m                 \u001b[0mquery\u001b[0m\u001b[1;33m,\u001b[0m\u001b[1;33m\u001b[0m\u001b[1;33m\u001b[0m\u001b[0m\n",
      "\u001b[1;31mMySQLInterfaceError\u001b[0m: Table 'tb_role' already exists",
      "\nThe above exception was the direct cause of the following exception:\n",
      "\u001b[1;31mProgrammingError\u001b[0m                          Traceback (most recent call last)",
      "\u001b[1;32m~\\AppData\\Local\\Temp\\ipykernel_16436\\3941034576.py\u001b[0m in \u001b[0;36m<module>\u001b[1;34m\u001b[0m\n\u001b[0;32m      1\u001b[0m \u001b[0mmycursor\u001b[0m \u001b[1;33m=\u001b[0m \u001b[0mmydb\u001b[0m\u001b[1;33m.\u001b[0m\u001b[0mcursor\u001b[0m\u001b[1;33m(\u001b[0m\u001b[1;33m)\u001b[0m\u001b[1;33m\u001b[0m\u001b[1;33m\u001b[0m\u001b[0m\n\u001b[0;32m      2\u001b[0m \u001b[1;33m\u001b[0m\u001b[0m\n\u001b[1;32m----> 3\u001b[1;33m \u001b[0mmycursor\u001b[0m\u001b[1;33m.\u001b[0m\u001b[0mexecute\u001b[0m\u001b[1;33m(\u001b[0m\u001b[1;34m\"CREATE TABLE tb_role (role_id          INTEGER NOT NULL ,role_name        CHARACTER VARYING(60) NOT NULL ,created_by_user  CHARACTER VARYING(10) NOT NULL DEFAULT 'OS_SGAD' ,created_date     DATE ,updated_date     DATE ,CONSTRAINT pk_role PRIMARY KEY (role_id))\"\u001b[0m\u001b[1;33m)\u001b[0m\u001b[1;33m\u001b[0m\u001b[1;33m\u001b[0m\u001b[0m\n\u001b[0m",
      "\u001b[1;32m~\\Anaconda3\\lib\\site-packages\\mysql\\connector\\cursor_cext.py\u001b[0m in \u001b[0;36mexecute\u001b[1;34m(self, operation, params, multi)\u001b[0m\n\u001b[0;32m    277\u001b[0m \u001b[1;33m\u001b[0m\u001b[0m\n\u001b[0;32m    278\u001b[0m         \u001b[1;32mtry\u001b[0m\u001b[1;33m:\u001b[0m\u001b[1;33m\u001b[0m\u001b[1;33m\u001b[0m\u001b[0m\n\u001b[1;32m--> 279\u001b[1;33m             result = self._cnx.cmd_query(\n\u001b[0m\u001b[0;32m    280\u001b[0m                 \u001b[0mstmt\u001b[0m\u001b[1;33m,\u001b[0m\u001b[1;33m\u001b[0m\u001b[1;33m\u001b[0m\u001b[0m\n\u001b[0;32m    281\u001b[0m                 \u001b[0mraw\u001b[0m\u001b[1;33m=\u001b[0m\u001b[0mself\u001b[0m\u001b[1;33m.\u001b[0m\u001b[0m_raw\u001b[0m\u001b[1;33m,\u001b[0m\u001b[1;33m\u001b[0m\u001b[1;33m\u001b[0m\u001b[0m\n",
      "\u001b[1;32m~\\Anaconda3\\lib\\site-packages\\mysql\\connector\\connection_cext.py\u001b[0m in \u001b[0;36mcmd_query\u001b[1;34m(self, query, raw, buffered, raw_as_string)\u001b[0m\n\u001b[0;32m    571\u001b[0m             )\n\u001b[0;32m    572\u001b[0m         \u001b[1;32mexcept\u001b[0m \u001b[0mMySQLInterfaceError\u001b[0m \u001b[1;32mas\u001b[0m \u001b[0merr\u001b[0m\u001b[1;33m:\u001b[0m\u001b[1;33m\u001b[0m\u001b[1;33m\u001b[0m\u001b[0m\n\u001b[1;32m--> 573\u001b[1;33m             raise get_mysql_exception(\n\u001b[0m\u001b[0;32m    574\u001b[0m                 \u001b[0merr\u001b[0m\u001b[1;33m.\u001b[0m\u001b[0merrno\u001b[0m\u001b[1;33m,\u001b[0m \u001b[0mmsg\u001b[0m\u001b[1;33m=\u001b[0m\u001b[0merr\u001b[0m\u001b[1;33m.\u001b[0m\u001b[0mmsg\u001b[0m\u001b[1;33m,\u001b[0m \u001b[0msqlstate\u001b[0m\u001b[1;33m=\u001b[0m\u001b[0merr\u001b[0m\u001b[1;33m.\u001b[0m\u001b[0msqlstate\u001b[0m\u001b[1;33m\u001b[0m\u001b[1;33m\u001b[0m\u001b[0m\n\u001b[0;32m    575\u001b[0m             ) from err\n",
      "\u001b[1;31mProgrammingError\u001b[0m: 1050 (42S01): Table 'tb_role' already exists"
     ]
    }
   ],
   "source": [
    "mycursor = mydb.cursor()\n",
    "\n",
    "mycursor.execute(\"CREATE TABLE tb_role (role_id          INTEGER NOT NULL ,role_name        CHARACTER VARYING(60) NOT NULL ,created_by_user  CHARACTER VARYING(10) NOT NULL DEFAULT 'OS_SGAD' ,created_date     DATE ,updated_date     DATE ,CONSTRAINT pk_role PRIMARY KEY (role_id))\")"
   ]
  },
  {
   "cell_type": "code",
   "execution_count": 12,
   "id": "f6e0b5d5",
   "metadata": {},
   "outputs": [],
   "source": [
    "mycursor = mydb.cursor()\n",
    "\n",
    "mycursor.execute(\"CREATE TABLE tb_person (person_id        INTEGER NOT NULL ,person_name      CHARACTER VARYING(100) NOT NULL ,person_country   CHARACTER VARYING(40) , person_dob       DATE NOT NULL ,person_dod       DATE ,person_parent_id INTEGER ,created_by_user  CHARACTER VARYING(10) NOT NULL DEFAULT 'OS_SGAD' ,created_date     DATE ,updated_date     DATE ,CONSTRAINT pk_person PRIMARY KEY (person_id) ,CONSTRAINT fk_person_parent FOREIGN KEY (person_parent_id) REFERENCES tb_person (person_id))\")"
   ]
  },
  {
   "cell_type": "code",
   "execution_count": 14,
   "id": "be36f478",
   "metadata": {
    "scrolled": true
   },
   "outputs": [],
   "source": [
    "mycursor = mydb.cursor()\n",
    "\n",
    "mycursor.execute(\"CREATE TABLE tb_movie_person (movie_id         INTEGER NOT NULL ,person_id        INTEGER NOT NULL ,role_id          INTEGER NOT NULL ,movie_award_ind  CHAR(1) NOT NULL ,created_by_user  CHARACTER VARYING(10) NOT NULL DEFAULT 'OS_SGAD' ,created_date     DATE ,updated_date     DATE ,CONSTRAINT pk_movper PRIMARY KEY (movie_id, person_id, role_id) ,CONSTRAINT fk_movper_movie FOREIGN KEY (movie_id) REFERENCES tb_movie (movie_id) ,CONSTRAINT fk_movper_person FOREIGN KEY (person_id) REFERENCES tb_person (person_id) ,CONSTRAINT fk_movper_role FOREIGN KEY (role_id) REFERENCES tb_role (role_id))\")"
   ]
  },
  {
   "cell_type": "code",
   "execution_count": 15,
   "id": "87a169ca",
   "metadata": {},
   "outputs": [
    {
     "name": "stdout",
     "output_type": "stream",
     "text": [
      "('tb_genre',)\n",
      "('tb_movie',)\n",
      "('tb_movie_person',)\n",
      "('tb_person',)\n",
      "('tb_role',)\n"
     ]
    }
   ],
   "source": [
    "mycursor = mydb.cursor()\n",
    "\n",
    "mycursor.execute(\"SHOW TABLES\")\n",
    "\n",
    "for x in mycursor:\n",
    "  print(x) "
   ]
  },
  {
   "cell_type": "code",
   "execution_count": 16,
   "id": "529983fb",
   "metadata": {},
   "outputs": [
    {
     "name": "stdout",
     "output_type": "stream",
     "text": [
      "9 was inserted.\n"
     ]
    }
   ],
   "source": [
    "mycursor = mydb.cursor()\n",
    "\n",
    "sql = \"INSERT INTO tb_genre (genre_id, genre_name) VALUES (%s, %s)\"\n",
    "val = [\n",
    "( 1, 'Acción'),\n",
    "( 2, 'Ciencia Ficción'),\n",
    "( 3, 'Comedia'),\n",
    "( 4, 'Drama'),\n",
    "( 7, 'Musical'),\n",
    "( 8, 'Romance'),\n",
    "( 9, 'Suspense'),\n",
    "(10, 'Terror'),\n",
    "(11, 'Bélico')  \n",
    "]\n",
    "\n",
    "mycursor.executemany(sql, val)\n",
    "\n",
    "mydb.commit()\n",
    "\n",
    "print(mycursor.rowcount, \"was inserted.\") "
   ]
  },
  {
   "cell_type": "code",
   "execution_count": null,
   "id": "c4c3ffbe",
   "metadata": {},
   "outputs": [],
   "source": []
  },
  {
   "cell_type": "code",
   "execution_count": 17,
   "id": "9919f763",
   "metadata": {},
   "outputs": [
    {
     "name": "stdout",
     "output_type": "stream",
     "text": [
      "1 was inserted.\n"
     ]
    }
   ],
   "source": [
    "mycursor = mydb.cursor()\n",
    "\n",
    "sql = \"INSERT INTO tb_genre (genre_id, genre_name, created_by_user) VALUES (%s, %s, %s)\"\n",
    "val = (5, 'Fantasía', 'apermag')\n",
    "\n",
    "mycursor.execute(sql, val)\n",
    "\n",
    "mydb.commit()\n",
    "\n",
    "print(mycursor.rowcount, \"was inserted.\") "
   ]
  },
  {
   "cell_type": "code",
   "execution_count": 18,
   "id": "82c91276",
   "metadata": {},
   "outputs": [
    {
     "name": "stdout",
     "output_type": "stream",
     "text": [
      "1 was inserted.\n"
     ]
    }
   ],
   "source": [
    "mycursor = mydb.cursor()\n",
    "\n",
    "sql = \"INSERT INTO tb_genre (genre_id, genre_name, created_by_user, created_date, updated_date) VALUES (%s, %s, %s, %s, %s)\"\n",
    "val = (6, 'Melodrama', 'apermag', '2018-09-01', '2018-09-27')\n",
    "\n",
    "mycursor.execute(sql, val)\n",
    "\n",
    "mydb.commit()\n",
    "\n",
    "print(mycursor.rowcount, \"was inserted.\") "
   ]
  },
  {
   "cell_type": "code",
   "execution_count": 19,
   "id": "b6a18c6f",
   "metadata": {},
   "outputs": [
    {
     "name": "stdout",
     "output_type": "stream",
     "text": [
      "16 was inserted.\n"
     ]
    }
   ],
   "source": [
    "mycursor = mydb.cursor()\n",
    "\n",
    "sql = \"INSERT INTO tb_movie (movie_id, movie_title, movie_date, movie_format, movie_genre_id) VALUES (%s, %s, %s, %s, %s)\"\n",
    "val = [\n",
    "( 1, 'Apocalypse Now', '1979-05-10', 'Film', 11),\n",
    "( 2, 'Star Wars:Episode IV - A New Hope', '1977-05-25', 'Film', 2),\n",
    "( 3, 'Indiana Jones and the Temple of Doom', '1984-05-08', 'Film', 1),\n",
    "( 4, 'The Terminal', '2004-06-18', 'Digital', 3),\n",
    "( 5, 'Jaws', '1975-01-01', 'Film', 10),\n",
    "( 6, 'ET The Extraterrestrial', '1982-07-25', 'Film', 5),\n",
    "( 7, 'Psycho', '1960-05-06', 'Film', 9),\n",
    "( 8, 'Ocho Apellidos Vascos', '2014-03-14', 'Digital', 3),\n",
    "( 9, 'Ocho Apellidos Catalanes', '2016-06-09', 'Digital', 8),\n",
    "(10, 'El otro lado de la cama', '2002-09-04', 'Digital', 8),\n",
    "(11, 'La Gran Familia Española', '2012-10-15', 'Digital', 3),\n",
    "(12, 'El dia de la bestia', '1994-12-25', 'Film', 1),\n",
    "(13, 'Braveheart', '1995-08-08', 'Film', 4),\n",
    "(14, 'The Shawshank Redemption', '1992-01-07', 'Film', 4),\n",
    "(15, 'Las brujas de Zugarramurdi', '2009-10-07', 'Digital', 9),\n",
    "(16, 'Blade Runner', '1982-12-25', 'Digital', 2)\n",
    "]\n",
    "\n",
    "mycursor.executemany(sql, val)\n",
    "\n",
    "mydb.commit()\n",
    "\n",
    "print(mycursor.rowcount, \"was inserted.\") "
   ]
  },
  {
   "cell_type": "code",
   "execution_count": 20,
   "id": "4da68ed2",
   "metadata": {},
   "outputs": [
    {
     "name": "stdout",
     "output_type": "stream",
     "text": [
      "5 was inserted.\n"
     ]
    }
   ],
   "source": [
    "mycursor = mydb.cursor()\n",
    "\n",
    "sql = \"INSERT INTO tb_role (role_id, role_name) VALUES (%s, %s)\"\n",
    "val = [\n",
    "( 1, 'Actor'),\n",
    "( 2, 'Director'),\n",
    "( 3, 'Productor'),\n",
    "( 4, 'Guionista'),\n",
    "( 5, 'Música')  \n",
    "]\n",
    "\n",
    "mycursor.executemany(sql, val)\n",
    "\n",
    "mydb.commit()\n",
    "\n",
    "print(mycursor.rowcount, \"was inserted.\") "
   ]
  },
  {
   "cell_type": "code",
   "execution_count": 21,
   "id": "864dd605",
   "metadata": {},
   "outputs": [
    {
     "name": "stdout",
     "output_type": "stream",
     "text": [
      "42 was inserted.\n"
     ]
    }
   ],
   "source": [
    "mycursor = mydb.cursor()\n",
    "\n",
    "sql = \"INSERT INTO tb_person (person_id, person_name, person_country, person_dob, person_dod, person_parent_id) VALUES (%s, %s, %s, %s, %s, %s)\"\n",
    "val = [\n",
    "( 1, 'Francis Ford Coppola', 'United States', '1939-04-07', None, None),\n",
    "( 2, 'Carmine Coppola', 'United States', '1945-07-08', None, None),\n",
    "( 3, 'Marlon Brando', 'United States', '1924-04-03', '2004-07-01', None),\n",
    "( 4, 'Robert Duvall', 'United States', '1931-01-05', None, None),\n",
    "( 5, 'Martin Sheen', 'United States', '1940-08-03', None, None),\n",
    "( 6, 'Harrison Ford', 'United States', '1942-07-13', None, None),\n",
    "( 7, 'George Lucas', 'United States', '1944-05-14', None, None),\n",
    "( 8, 'Gary Kurtz', 'United States', '1940-07-27', None, None),\n",
    "( 9, 'Steven Spielberg', 'United States', '1946-12-18', None, None),\n",
    "(10, 'John Williams', 'United States', '1928-08-08', None, None),\n",
    "(11, 'Tom Hanks', 'United States', '1956-07-09', None, None),\n",
    "(12, 'Catherine Zeta-Jones', 'Wales', '1969-09-25', None, None),\n",
    "(13, 'Alfred Joseph Hitchcock', 'United Kingdom', '1899-08-13', '1980-04-29', None),\n",
    "(14, 'Anthony Perkins', 'United States', '1934-04-04', '1992-09-08', None),\n",
    "(15, 'Vera Miles', 'United States', '1929-08-23', None, None),\n",
    "(16, 'Emilio Martinez Lazaro', 'Spain', '1956-09-09', None, None),\n",
    "(17, 'Dani Rovira', 'Spain', '1984-07-01', None, None),\n",
    "(18, 'Clara Lago', 'Spain', '1986-04-17', None, None),\n",
    "(19, 'Carmen Machi', 'Spain', '1964-08-09', None, None),\n",
    "(20, 'Karra Elejalde', 'Spain', '1960-03-06', None, None),\n",
    "(21, 'Daniel Sanchez Arevalo', 'Spain', '1970-06-08', None, None),\n",
    "(22, 'Quim Gutierrez', 'Spain', '1981-03-27', None, None),\n",
    "(23, 'Robert Alamo', 'Spain', '1970-05-06', None, None),\n",
    "(24, 'Hector Colome', 'Spain', '1944-10-25', '2015-02-28', None),\n",
    "(25, 'Veronica Echegui', 'Spain', '1983-03-14', None, None),\n",
    "(26, 'Patrick Criado', 'Spain', '1995-09-23', None, None),\n",
    "(27, 'Sean Connery', 'Scotland', '1930-07-08', None, None),\n",
    "(28, 'Mel Gibson', 'Australia', '1950-08-09', None, None),\n",
    "(29, 'Morgan Freeman', 'United States', '1935-10-01', None, None),\n",
    "(30, 'Tim Robbins', 'United States', '1949-06-07', None, None),\n",
    "(41, 'Charlie Sheen', 'United States', '1965-09-03', None, 5),\n",
    "(42, 'Emilio Estevez', 'United States', '1962-05-12', None, 5),\n",
    "(43, 'Ramón Estevez', 'United States', '1963-08-07', None, 5),\n",
    "(44, 'Reneé Estevez', 'United States', '1967-04-02', None, 5),\n",
    "(45, 'Paula Speert Sheen', 'United States', '1986-01-06', None,41),\n",
    "(46, 'Bob Sheen', 'United States', '2009-05-01', None,41),\n",
    "(47, 'Max Sheen', 'United States', '2009-05-01', None,41),\n",
    "(48, 'Sam Sheen', 'United States', '2004-03-09', None,41),\n",
    "(49, 'Lola Sheen', 'United States', '2005-06-01', None,41),\n",
    "(50, 'Paula Jones-Sheen', 'United States', '2003-07-06', None,45),\n",
    "(51, 'Paloma Rae Estevez', 'United States', '1986-02-15', None,42),\n",
    "(52, 'Taylor Levi Estevez', 'United States', '1984-06-22', None,42)\n",
    "]\n",
    "\n",
    "mycursor.executemany(sql, val)\n",
    "\n",
    "mydb.commit()\n",
    "\n",
    "print(mycursor.rowcount, \"was inserted.\") "
   ]
  },
  {
   "cell_type": "code",
   "execution_count": 14,
   "id": "72776b8c",
   "metadata": {},
   "outputs": [
    {
     "name": "stdout",
     "output_type": "stream",
     "text": [
      "50 was inserted.\n"
     ]
    }
   ],
   "source": [
    "mycursor = mydb.cursor()\n",
    "\n",
    "sql = \"INSERT INTO tb_movie_person (movie_id, person_id, role_id, movie_award_ind) VALUES (%s, %s, %s, %s)\"\n",
    "val = [\n",
    "( 1, 1, 2, 'Y'),\n",
    "( 1, 1, 3, 'N'),\n",
    "( 1, 1, 5, 'N'),\n",
    "( 1, 2, 5, 'N'),\n",
    "( 1, 3, 1, 'N'),\n",
    "( 1, 4, 1, 'N'),\n",
    "( 1, 5, 1, 'Y'),\n",
    "( 1,41, 1, 'N'),\n",
    "( 1, 6, 1, 'N'),\n",
    "( 2, 6, 1, 'N'),\n",
    "( 2, 7, 2, 'Y'),\n",
    "( 2, 8, 3, 'N'),\n",
    "( 3, 6, 1, 'N'),\n",
    "( 3, 7, 4, 'N'),\n",
    "( 3, 9, 2, 'N'),\n",
    "( 3,10, 5, 'N'),\n",
    "( 4, 9, 2, 'N'),\n",
    "( 4, 9, 3, 'N'),\n",
    "( 4,11, 1, 'N'),\n",
    "( 4,12, 1, 'N'),\n",
    "( 5, 9, 2, 'N'),\n",
    "( 6, 9, 2, 'N'),\n",
    "( 7,13, 1, 'N'),\n",
    "( 7,13, 2, 'N'),\n",
    "( 7,13, 3, 'N'),\n",
    "( 7,14, 2, 'N'),\n",
    "( 7,15, 2, 'N'),\n",
    "( 3, 7, 1, 'N'),\n",
    "( 8,16, 2, 'N'),\n",
    "( 9,16, 2, 'N'),\n",
    "( 8,17, 1, 'N'),\n",
    "( 8,18, 1, 'N'),\n",
    "( 8,19, 1, 'N'),\n",
    "( 8,20, 1, 'N'),\n",
    "( 9,17, 1, 'N'),\n",
    "( 9,18, 1, 'N'),\n",
    "( 9,19, 1, 'N'),\n",
    "( 9,20, 1, 'N'),\n",
    "(10,16, 2, 'N'),\n",
    "(11,21, 2, 'N'),\n",
    "(11,21, 4, 'N'),\n",
    "(11,22, 1, 'N'),\n",
    "(11,23, 1, 'N'),\n",
    "(11,24, 1, 'N'),\n",
    "(11,25, 1, 'N'),\n",
    "(11,26, 1, 'N'),\n",
    "(13,28, 1, 'Y'),\n",
    "(13,28, 2, 'N'),\n",
    "(14,29, 1, 'N'),\n",
    "(14,30, 1, 'N'),\n",
    "]\n",
    "\n",
    "mycursor.executemany(sql, val)\n",
    "\n",
    "mydb.commit()\n",
    "\n",
    "print(mycursor.rowcount, \"was inserted.\") "
   ]
  },
  {
   "cell_type": "code",
   "execution_count": 50,
   "id": "50d24f6e",
   "metadata": {
    "scrolled": true
   },
   "outputs": [
    {
     "name": "stdout",
     "output_type": "stream",
     "text": [
      "('John Williams', 'United States')\n",
      "('Vera Miles', 'United States')\n",
      "('Sean Connery', 'Scotland')\n",
      "('Robert Duvall', 'United States')\n",
      "('Morgan Freeman', 'United States')\n",
      "('Francis Ford Coppola', 'United States')\n",
      "('Gary Kurtz', 'United States')\n",
      "('Martin Sheen', 'United States')\n",
      "('Harrison Ford', 'United States')\n",
      "('George Lucas', 'United States')\n",
      "('Carmine Coppola', 'United States')\n",
      "('Steven Spielberg', 'United States')\n",
      "('Tim Robbins', 'United States')\n",
      "('Mel Gibson', 'Australia')\n",
      "('Tom Hanks', 'United States')\n",
      "('Emilio Martinez Lazaro', 'Spain')\n",
      "('Karra Elejalde', 'Spain')\n",
      "('Emilio Estevez', 'United States')\n",
      "('Ramón Estevez', 'United States')\n",
      "('Carmen Machi', 'Spain')\n",
      "('Charlie Sheen', 'United States')\n",
      "('Reneé Estevez', 'United States')\n",
      "('Catherine Zeta-Jones', 'Wales')\n",
      "('Robert Alamo', 'Spain')\n",
      "('Daniel Sanchez Arevalo', 'Spain')\n",
      "('Quim Gutierrez', 'Spain')\n",
      "('Veronica Echegui', 'Spain')\n",
      "('Taylor Levi Estevez', 'United States')\n",
      "('Dani Rovira', 'Spain')\n",
      "('Paula Speert Sheen', 'United States')\n",
      "('Paloma Rae Estevez', 'United States')\n",
      "('Clara Lago', 'Spain')\n",
      "('Patrick Criado', 'Spain')\n",
      "('Paula Jones-Sheen', 'United States')\n",
      "('Sam Sheen', 'United States')\n",
      "('Lola Sheen', 'United States')\n",
      "('Bob Sheen', 'United States')\n",
      "('Max Sheen', 'United States')\n"
     ]
    }
   ],
   "source": [
    "#Exercici 2\n",
    "import mysql.connector\n",
    "\n",
    "mydb = mysql.connector.connect(host=\"localhost\",user=\"root\",password=\"Cockazo1%\",database=\"SGAE_Practica\")\n",
    "\n",
    "mycursor = mydb.cursor()\n",
    "\n",
    "mycursor.execute(\"SELECT person_name, person_country\\\n",
    "                FROM tb_person\\\n",
    "                WHERE person_dod IS NULL\\\n",
    "                ORDER BY person_dob ASC\")\n",
    "\n",
    "myresult = mycursor.fetchall()\n",
    "\n",
    "for x in myresult:\n",
    "  print(x) "
   ]
  },
  {
   "cell_type": "code",
   "execution_count": 75,
   "id": "2d4f5461",
   "metadata": {},
   "outputs": [
    {
     "name": "stdout",
     "output_type": "stream",
     "text": [
      "('Acción', 1)\n",
      "('Bélico', 11)\n",
      "('Ciencia Ficción', 2)\n",
      "('Comedia', 3)\n",
      "('Drama', 4)\n",
      "('Fantasía', 5)\n",
      "('Romance', 8)\n",
      "('Suspense', 9)\n",
      "('Terror', 10)\n"
     ]
    }
   ],
   "source": [
    "#Exercici 3\n",
    "import mysql.connector\n",
    "\n",
    "mydb = mysql.connector.connect(host=\"localhost\",user=\"root\",password=\"Cockazo1%\",database=\"SGAE_Practica\")\n",
    "\n",
    "mycursor = mydb.cursor()\n",
    "\n",
    "mycursor.execute(\"SELECT tb_genre.genre_name, tb_movie.movie_genre_id \\\n",
    "                FROM tb_genre\\\n",
    "                INNER JOIN tb_movie \\\n",
    "                ON tb_genre.genre_id=tb_movie.movie_genre_id\\\n",
    "                GROUP BY genre_id ORDER BY 1\")\n",
    "                \n",
    "                \n",
    "\n",
    "myresult = mycursor.fetchall()\n",
    "\n",
    "for x in myresult:\n",
    "  print(x) "
   ]
  },
  {
   "cell_type": "code",
   "execution_count": 80,
   "id": "fc1cfaa8",
   "metadata": {},
   "outputs": [
    {
     "name": "stdout",
     "output_type": "stream",
     "text": [
      "('tb_genre',)\n",
      "('tb_movie',)\n",
      "('tb_movie_person',)\n",
      "('tb_person',)\n",
      "('tb_role',)\n"
     ]
    }
   ],
   "source": [
    "mycursor = mydb.cursor()\n",
    "\n",
    "mycursor.execute(\"SHOW TABLES\")\n",
    "\n",
    "for x in mycursor:\n",
    "  print(x) "
   ]
  },
  {
   "cell_type": "code",
   "execution_count": 98,
   "id": "b84641c7",
   "metadata": {},
   "outputs": [
    {
     "ename": "ProgrammingError",
     "evalue": "1064 (42000): You have an error in your SQL syntax; check the manual that corresponds to your MySQL server version for the right syntax to use near 'FROM tb_movie_person                 INNER JOIN tb_role                ON tb_mov' at line 1",
     "output_type": "error",
     "traceback": [
      "\u001b[1;31m---------------------------------------------------------------------------\u001b[0m",
      "\u001b[1;31mMySQLInterfaceError\u001b[0m                       Traceback (most recent call last)",
      "\u001b[1;32m~\\Anaconda3\\lib\\site-packages\\mysql\\connector\\connection_cext.py\u001b[0m in \u001b[0;36mcmd_query\u001b[1;34m(self, query, raw, buffered, raw_as_string)\u001b[0m\n\u001b[0;32m    564\u001b[0m                 \u001b[0mquery\u001b[0m \u001b[1;33m=\u001b[0m \u001b[0mquery\u001b[0m\u001b[1;33m.\u001b[0m\u001b[0mencode\u001b[0m\u001b[1;33m(\u001b[0m\u001b[1;34m\"utf-8\"\u001b[0m\u001b[1;33m)\u001b[0m\u001b[1;33m\u001b[0m\u001b[1;33m\u001b[0m\u001b[0m\n\u001b[1;32m--> 565\u001b[1;33m             self._cmysql.query(\n\u001b[0m\u001b[0;32m    566\u001b[0m                 \u001b[0mquery\u001b[0m\u001b[1;33m,\u001b[0m\u001b[1;33m\u001b[0m\u001b[1;33m\u001b[0m\u001b[0m\n",
      "\u001b[1;31mMySQLInterfaceError\u001b[0m: You have an error in your SQL syntax; check the manual that corresponds to your MySQL server version for the right syntax to use near 'FROM tb_movie_person                 INNER JOIN tb_role                ON tb_mov' at line 1",
      "\nThe above exception was the direct cause of the following exception:\n",
      "\u001b[1;31mProgrammingError\u001b[0m                          Traceback (most recent call last)",
      "\u001b[1;32m~\\AppData\\Local\\Temp\\ipykernel_16436\\2798998359.py\u001b[0m in \u001b[0;36m<module>\u001b[1;34m\u001b[0m\n\u001b[0;32m      6\u001b[0m \u001b[0mmycursor\u001b[0m \u001b[1;33m=\u001b[0m \u001b[0mmydb\u001b[0m\u001b[1;33m.\u001b[0m\u001b[0mcursor\u001b[0m\u001b[1;33m(\u001b[0m\u001b[1;33m)\u001b[0m\u001b[1;33m\u001b[0m\u001b[1;33m\u001b[0m\u001b[0m\n\u001b[0;32m      7\u001b[0m \u001b[1;33m\u001b[0m\u001b[0m\n\u001b[1;32m----> 8\u001b[1;33m mycursor.execute(\"SELECT\\\n\u001b[0m\u001b[0;32m      9\u001b[0m                 \u001b[0mtb_person\u001b[0m\u001b[1;33m.\u001b[0m\u001b[0mperson_name\u001b[0m\u001b[1;33m,\u001b[0m\u001b[0;31m\\\u001b[0m\u001b[1;33m\u001b[0m\u001b[1;33m\u001b[0m\u001b[0m\n\u001b[0;32m     10\u001b[0m                 \u001b[0mtb_role\u001b[0m\u001b[1;33m.\u001b[0m\u001b[0mrole_name\u001b[0m\u001b[1;33m,\u001b[0m\u001b[0;31m \u001b[0m\u001b[0;31m\\\u001b[0m\u001b[1;33m\u001b[0m\u001b[1;33m\u001b[0m\u001b[0m\n",
      "\u001b[1;32m~\\Anaconda3\\lib\\site-packages\\mysql\\connector\\cursor_cext.py\u001b[0m in \u001b[0;36mexecute\u001b[1;34m(self, operation, params, multi)\u001b[0m\n\u001b[0;32m    277\u001b[0m \u001b[1;33m\u001b[0m\u001b[0m\n\u001b[0;32m    278\u001b[0m         \u001b[1;32mtry\u001b[0m\u001b[1;33m:\u001b[0m\u001b[1;33m\u001b[0m\u001b[1;33m\u001b[0m\u001b[0m\n\u001b[1;32m--> 279\u001b[1;33m             result = self._cnx.cmd_query(\n\u001b[0m\u001b[0;32m    280\u001b[0m                 \u001b[0mstmt\u001b[0m\u001b[1;33m,\u001b[0m\u001b[1;33m\u001b[0m\u001b[1;33m\u001b[0m\u001b[0m\n\u001b[0;32m    281\u001b[0m                 \u001b[0mraw\u001b[0m\u001b[1;33m=\u001b[0m\u001b[0mself\u001b[0m\u001b[1;33m.\u001b[0m\u001b[0m_raw\u001b[0m\u001b[1;33m,\u001b[0m\u001b[1;33m\u001b[0m\u001b[1;33m\u001b[0m\u001b[0m\n",
      "\u001b[1;32m~\\Anaconda3\\lib\\site-packages\\mysql\\connector\\connection_cext.py\u001b[0m in \u001b[0;36mcmd_query\u001b[1;34m(self, query, raw, buffered, raw_as_string)\u001b[0m\n\u001b[0;32m    571\u001b[0m             )\n\u001b[0;32m    572\u001b[0m         \u001b[1;32mexcept\u001b[0m \u001b[0mMySQLInterfaceError\u001b[0m \u001b[1;32mas\u001b[0m \u001b[0merr\u001b[0m\u001b[1;33m:\u001b[0m\u001b[1;33m\u001b[0m\u001b[1;33m\u001b[0m\u001b[0m\n\u001b[1;32m--> 573\u001b[1;33m             raise get_mysql_exception(\n\u001b[0m\u001b[0;32m    574\u001b[0m                 \u001b[0merr\u001b[0m\u001b[1;33m.\u001b[0m\u001b[0merrno\u001b[0m\u001b[1;33m,\u001b[0m \u001b[0mmsg\u001b[0m\u001b[1;33m=\u001b[0m\u001b[0merr\u001b[0m\u001b[1;33m.\u001b[0m\u001b[0mmsg\u001b[0m\u001b[1;33m,\u001b[0m \u001b[0msqlstate\u001b[0m\u001b[1;33m=\u001b[0m\u001b[0merr\u001b[0m\u001b[1;33m.\u001b[0m\u001b[0msqlstate\u001b[0m\u001b[1;33m\u001b[0m\u001b[1;33m\u001b[0m\u001b[0m\n\u001b[0;32m    575\u001b[0m             ) from err\n",
      "\u001b[1;31mProgrammingError\u001b[0m: 1064 (42000): You have an error in your SQL syntax; check the manual that corresponds to your MySQL server version for the right syntax to use near 'FROM tb_movie_person                 INNER JOIN tb_role                ON tb_mov' at line 1"
     ]
    }
   ],
   "source": [
    "#Exercici 4\n",
    "import mysql.connector\n",
    "\n",
    "mydb = mysql.connector.connect(host=\"localhost\",user=\"root\",password=\"Cockazo1%\",database=\"SGAE_Practica\")\n",
    "\n",
    "mycursor = mydb.cursor()\n",
    "\n",
    "mycursor.execute(\"SELECT\\\n",
    "                tb_person.person_name,\\\n",
    "                tb_role.role_name, \\\n",
    "                tb_movie_person.movie_id,\\\n",
    "                tb_movie_person.person_id,\\\n",
    "                tb_movie_person.role_id,\\\n",
    "                FROM tb_movie_person \\\n",
    "                INNER JOIN tb_role\\\n",
    "                ON tb_movie_person.role_id=tb_role.name\\\n",
    "                INNER JOIN tb_person\\\n",
    "                ON tb_movie_person.person_id=tb_person.person_name\\\n",
    "                GROUP BY role_name ORDER BY 1\")\n",
    "                \n",
    "                \n",
    "\n",
    "myresult = mycursor.fetchall()\n",
    "\n",
    "for x in myresult:\n",
    "  print(x) "
   ]
  },
  {
   "cell_type": "code",
   "execution_count": 100,
   "id": "0a05a71a",
   "metadata": {},
   "outputs": [
    {
     "name": "stdout",
     "output_type": "stream",
     "text": [
      "1 was inserted.\n"
     ]
    }
   ],
   "source": [
    "#Exercici 5\n",
    "import mysql.connector\n",
    "\n",
    "mydb = mysql.connector.connect(host=\"localhost\",user=\"root\",password=\"Cockazo1%\",database=\"SGAE_Practica\")\n",
    "\n",
    "mycursor = mydb.cursor()\n",
    "\n",
    "sql = \"INSERT INTO tb_genre (genre_id, genre_name) VALUES (%s, %s)\"\n",
    "val = ( 69, 'Documental')\n",
    "\n",
    "mycursor.execute(sql, val)\n",
    "\n",
    "mydb.commit()\n",
    "\n",
    "print(mycursor.rowcount, \"was inserted.\") "
   ]
  },
  {
   "cell_type": "code",
   "execution_count": 101,
   "id": "639cd1d5",
   "metadata": {},
   "outputs": [
    {
     "name": "stdout",
     "output_type": "stream",
     "text": [
      "(1, 'Acción', 'OS_SGAD', None, None)\n",
      "(2, 'Ciencia Ficción', 'OS_SGAD', None, None)\n",
      "(3, 'Comedia', 'OS_SGAD', None, None)\n",
      "(4, 'Drama', 'OS_SGAD', None, None)\n",
      "(5, 'Fantasía', 'apermag', None, None)\n",
      "(6, 'Melodrama', 'apermag', datetime.date(2018, 9, 1), datetime.date(2018, 9, 27))\n",
      "(7, 'Musical', 'OS_SGAD', None, None)\n",
      "(8, 'Romance', 'OS_SGAD', None, None)\n",
      "(9, 'Suspense', 'OS_SGAD', None, None)\n",
      "(10, 'Terror', 'OS_SGAD', None, None)\n",
      "(11, 'Bélico', 'OS_SGAD', None, None)\n",
      "(69, 'Documental', 'OS_SGAD', None, None)\n"
     ]
    }
   ],
   "source": [
    "import mysql.connector\n",
    "\n",
    "mydb = mysql.connector.connect(host=\"localhost\",user=\"root\",password=\"Cockazo1%\",database=\"SGAE_Practica\")\n",
    "\n",
    "mycursor = mydb.cursor()\n",
    "\n",
    "mycursor.execute(\"SELECT * FROM tb_genre\")\n",
    "        \n",
    "myresult = mycursor.fetchall()\n",
    "\n",
    "for x in myresult:\n",
    "  print(x) "
   ]
  },
  {
   "cell_type": "code",
   "execution_count": 108,
   "id": "146856f8",
   "metadata": {},
   "outputs": [
    {
     "name": "stdout",
     "output_type": "stream",
     "text": [
      "(1, 'Apocalypse Now', datetime.date(1979, 5, 10), 'Film', 11, 'OS_SGAD', None, None)\n",
      "(2, 'Star Wars:Episode IV - A New Hope', datetime.date(1977, 5, 25), 'Film', 2, 'OS_SGAD', None, None)\n",
      "(3, 'Indiana Jones and the Temple of Doom', datetime.date(1984, 5, 8), 'Film', 1, 'OS_SGAD', None, None)\n",
      "(4, 'The Terminal', datetime.date(2004, 6, 18), 'Digital', 3, 'OS_SGAD', None, None)\n",
      "(5, 'Jaws', datetime.date(1975, 1, 1), 'Film', 10, 'OS_SGAD', None, None)\n",
      "(6, 'ET The Extraterrestrial', datetime.date(1982, 7, 25), 'Film', 5, 'OS_SGAD', None, None)\n",
      "(7, 'Psycho', datetime.date(1960, 5, 6), 'Film', 9, 'OS_SGAD', None, None)\n",
      "(8, 'Ocho Apellidos Vascos', datetime.date(2014, 3, 14), 'Digital', 3, 'OS_SGAD', None, None)\n",
      "(9, 'Ocho Apellidos Catalanes', datetime.date(2016, 6, 9), 'Digital', 8, 'OS_SGAD', None, None)\n",
      "(10, 'El otro lado de la cama', datetime.date(2002, 9, 4), 'Digital', 8, 'OS_SGAD', None, None)\n",
      "(11, 'La Gran Familia Española', datetime.date(2012, 10, 15), 'Digital', 3, 'OS_SGAD', None, None)\n",
      "(12, 'El dia de la bestia', datetime.date(1994, 12, 25), 'Film', 1, 'OS_SGAD', None, None)\n",
      "(13, 'Braveheart', datetime.date(1995, 8, 8), 'Film', 4, 'OS_SGAD', None, None)\n",
      "(14, 'The Shawshank Redemption', datetime.date(1992, 1, 7), 'Film', 4, 'OS_SGAD', None, None)\n",
      "(15, 'Las brujas de Zugarramurdi', datetime.date(2009, 10, 7), 'Digital', 9, 'OS_SGAD', None, None)\n",
      "(16, 'Blade Runner', datetime.date(1982, 12, 25), 'Digital', 2, 'OS_SGAD', None, None)\n"
     ]
    }
   ],
   "source": [
    "import mysql.connector\n",
    "\n",
    "mydb = mysql.connector.connect(host=\"localhost\",user=\"root\",password=\"Cockazo1%\",database=\"SGAE_Practica\")\n",
    "\n",
    "mycursor = mydb.cursor()\n",
    "\n",
    "mycursor.execute(\"SELECT * FROM tb_movie\")\n",
    "        \n",
    "myresult = mycursor.fetchall()\n",
    "\n",
    "for x in myresult:\n",
    "  print(x) "
   ]
  },
  {
   "cell_type": "code",
   "execution_count": 111,
   "id": "7382c17e",
   "metadata": {},
   "outputs": [
    {
     "name": "stdout",
     "output_type": "stream",
     "text": [
      "1 was inserted.\n"
     ]
    }
   ],
   "source": [
    "#Exercici 6\n",
    "import mysql.connector\n",
    "\n",
    "mydb = mysql.connector.connect(host=\"localhost\",user=\"root\",password=\"Cockazo1%\",database=\"SGAE_Practica\")\n",
    "\n",
    "mycursor = mydb.cursor()\n",
    "\n",
    "mycursor.execute(\"DELETE FROM tb_movie WHERE movie_title = 'La Gran Familia Española'\")\n",
    "\n",
    "mydb.commit()\n",
    "\n",
    "print(mycursor.rowcount, \"was deleted.\") "
   ]
  },
  {
   "cell_type": "code",
   "execution_count": 112,
   "id": "d9ccb3c9",
   "metadata": {},
   "outputs": [
    {
     "name": "stdout",
     "output_type": "stream",
     "text": [
      "(1, 'Apocalypse Now', datetime.date(1979, 5, 10), 'Film', 11, 'OS_SGAD', None, None)\n",
      "(2, 'Star Wars:Episode IV - A New Hope', datetime.date(1977, 5, 25), 'Film', 2, 'OS_SGAD', None, None)\n",
      "(3, 'Indiana Jones and the Temple of Doom', datetime.date(1984, 5, 8), 'Film', 1, 'OS_SGAD', None, None)\n",
      "(4, 'The Terminal', datetime.date(2004, 6, 18), 'Digital', 3, 'OS_SGAD', None, None)\n",
      "(5, 'Jaws', datetime.date(1975, 1, 1), 'Film', 10, 'OS_SGAD', None, None)\n",
      "(6, 'ET The Extraterrestrial', datetime.date(1982, 7, 25), 'Film', 5, 'OS_SGAD', None, None)\n",
      "(7, 'Psycho', datetime.date(1960, 5, 6), 'Film', 9, 'OS_SGAD', None, None)\n",
      "(8, 'Ocho Apellidos Vascos', datetime.date(2014, 3, 14), 'Digital', 3, 'OS_SGAD', None, None)\n",
      "(9, 'Ocho Apellidos Catalanes', datetime.date(2016, 6, 9), 'Digital', 8, 'OS_SGAD', None, None)\n",
      "(10, 'El otro lado de la cama', datetime.date(2002, 9, 4), 'Digital', 8, 'OS_SGAD', None, None)\n",
      "(12, 'El dia de la bestia', datetime.date(1994, 12, 25), 'Film', 1, 'OS_SGAD', None, None)\n",
      "(13, 'Braveheart', datetime.date(1995, 8, 8), 'Film', 4, 'OS_SGAD', None, None)\n",
      "(14, 'The Shawshank Redemption', datetime.date(1992, 1, 7), 'Film', 4, 'OS_SGAD', None, None)\n",
      "(15, 'Las brujas de Zugarramurdi', datetime.date(2009, 10, 7), 'Digital', 9, 'OS_SGAD', None, None)\n",
      "(16, 'Blade Runner', datetime.date(1982, 12, 25), 'Digital', 2, 'OS_SGAD', None, None)\n"
     ]
    }
   ],
   "source": [
    "import mysql.connector\n",
    "\n",
    "mydb = mysql.connector.connect(host=\"localhost\",user=\"root\",password=\"Cockazo1%\",database=\"SGAE_Practica\")\n",
    "\n",
    "mycursor = mydb.cursor()\n",
    "\n",
    "mycursor.execute(\"SELECT * FROM tb_movie\")\n",
    "        \n",
    "myresult = mycursor.fetchall()\n",
    "\n",
    "for x in myresult:\n",
    "  print(x) "
   ]
  },
  {
   "cell_type": "code",
   "execution_count": 113,
   "id": "fdeb4d4f",
   "metadata": {},
   "outputs": [
    {
     "name": "stdout",
     "output_type": "stream",
     "text": [
      "1 was updated.\n"
     ]
    }
   ],
   "source": [
    "#Exercici 7\n",
    "import mysql.connector\n",
    "\n",
    "mydb = mysql.connector.connect(host=\"localhost\",user=\"root\",password=\"Cockazo1%\",database=\"SGAE_Practica\")\n",
    "\n",
    "mycursor = mydb.cursor()\n",
    "\n",
    "mycursor.execute(\"UPDATE tb_movie \\\n",
    "                SET movie_genre_id = 3\\\n",
    "                WHERE movie_title = 'Ocho apellidos catalanes'\")\n",
    "\n",
    "mydb.commit()\n",
    "\n",
    "print(mycursor.rowcount, \"was updated.\") \n",
    " "
   ]
  },
  {
   "cell_type": "code",
   "execution_count": 114,
   "id": "8e990a60",
   "metadata": {},
   "outputs": [
    {
     "name": "stdout",
     "output_type": "stream",
     "text": [
      "(1, 'Apocalypse Now', datetime.date(1979, 5, 10), 'Film', 11, 'OS_SGAD', None, None)\n",
      "(2, 'Star Wars:Episode IV - A New Hope', datetime.date(1977, 5, 25), 'Film', 2, 'OS_SGAD', None, None)\n",
      "(3, 'Indiana Jones and the Temple of Doom', datetime.date(1984, 5, 8), 'Film', 1, 'OS_SGAD', None, None)\n",
      "(4, 'The Terminal', datetime.date(2004, 6, 18), 'Digital', 3, 'OS_SGAD', None, None)\n",
      "(5, 'Jaws', datetime.date(1975, 1, 1), 'Film', 10, 'OS_SGAD', None, None)\n",
      "(6, 'ET The Extraterrestrial', datetime.date(1982, 7, 25), 'Film', 5, 'OS_SGAD', None, None)\n",
      "(7, 'Psycho', datetime.date(1960, 5, 6), 'Film', 9, 'OS_SGAD', None, None)\n",
      "(8, 'Ocho Apellidos Vascos', datetime.date(2014, 3, 14), 'Digital', 3, 'OS_SGAD', None, None)\n",
      "(9, 'Ocho Apellidos Catalanes', datetime.date(2016, 6, 9), 'Digital', 3, 'OS_SGAD', None, None)\n",
      "(10, 'El otro lado de la cama', datetime.date(2002, 9, 4), 'Digital', 8, 'OS_SGAD', None, None)\n",
      "(12, 'El dia de la bestia', datetime.date(1994, 12, 25), 'Film', 1, 'OS_SGAD', None, None)\n",
      "(13, 'Braveheart', datetime.date(1995, 8, 8), 'Film', 4, 'OS_SGAD', None, None)\n",
      "(14, 'The Shawshank Redemption', datetime.date(1992, 1, 7), 'Film', 4, 'OS_SGAD', None, None)\n",
      "(15, 'Las brujas de Zugarramurdi', datetime.date(2009, 10, 7), 'Digital', 9, 'OS_SGAD', None, None)\n",
      "(16, 'Blade Runner', datetime.date(1982, 12, 25), 'Digital', 2, 'OS_SGAD', None, None)\n"
     ]
    }
   ],
   "source": [
    "import mysql.connector\n",
    "\n",
    "mydb = mysql.connector.connect(host=\"localhost\",user=\"root\",password=\"Cockazo1%\",database=\"SGAE_Practica\")\n",
    "\n",
    "mycursor = mydb.cursor()\n",
    "\n",
    "mycursor.execute(\"SELECT * FROM tb_movie\")\n",
    "        \n",
    "myresult = mycursor.fetchall()\n",
    "\n",
    "for x in myresult:\n",
    "  print(x) "
   ]
  },
  {
   "cell_type": "code",
   "execution_count": null,
   "id": "208588f7",
   "metadata": {},
   "outputs": [],
   "source": []
  }
 ],
 "metadata": {
  "kernelspec": {
   "display_name": "Python 3 (ipykernel)",
   "language": "python",
   "name": "python3"
  },
  "language_info": {
   "codemirror_mode": {
    "name": "ipython",
    "version": 3
   },
   "file_extension": ".py",
   "mimetype": "text/x-python",
   "name": "python",
   "nbconvert_exporter": "python",
   "pygments_lexer": "ipython3",
   "version": "3.9.13"
  }
 },
 "nbformat": 4,
 "nbformat_minor": 5
}
